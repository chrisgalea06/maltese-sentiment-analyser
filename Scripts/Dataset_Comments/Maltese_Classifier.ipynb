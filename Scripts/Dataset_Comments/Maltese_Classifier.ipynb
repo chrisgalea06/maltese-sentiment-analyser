{
 "cells": [
  {
   "cell_type": "markdown",
   "id": "3708d9bc",
   "metadata": {},
   "source": [
    "# Importing required libraries"
   ]
  },
  {
   "cell_type": "code",
   "execution_count": 1,
   "id": "ad0178d3",
   "metadata": {
    "ExecuteTime": {
     "end_time": "2021-12-14T15:23:02.995571Z",
     "start_time": "2021-12-14T15:23:00.498131Z"
    }
   },
   "outputs": [],
   "source": [
    "import pandas as pd\n",
    "import numpy as np\n",
    "import re\n",
    "from numpy import array\n",
    "from tensorflow.keras.utils import to_categorical\n",
    "import string\n",
    "from re import sub\n",
    "from sklearn.model_selection import train_test_split\n",
    "import tensorflow as tf\n",
    "\n",
    "import keras\n",
    "from keras.models import Sequential\n",
    "from keras.layers import Dense,LSTM,Embedding\n",
    "from keras.layers import Dropout\n",
    "import keras.optimizers"
   ]
  },
  {
   "cell_type": "markdown",
   "id": "65f086cb",
   "metadata": {},
   "source": [
    "# Defining helper functions"
   ]
  },
  {
   "cell_type": "code",
   "execution_count": 2,
   "id": "c3667c55",
   "metadata": {
    "ExecuteTime": {
     "end_time": "2021-12-14T15:23:03.011075Z",
     "start_time": "2021-12-14T15:23:02.997572Z"
    }
   },
   "outputs": [],
   "source": [
    "def check_list(list, word):\n",
    "    if word in list:\n",
    "        return True\n",
    "    else:\n",
    "        return False"
   ]
  },
  {
   "cell_type": "code",
   "execution_count": 3,
   "id": "6f70ab5b",
   "metadata": {
    "ExecuteTime": {
     "end_time": "2021-12-14T15:23:03.026577Z",
     "start_time": "2021-12-14T15:23:03.012574Z"
    }
   },
   "outputs": [],
   "source": [
    "def open_list(filename):\n",
    "    with open(filename, \"r\", encoding='utf-8') as f:\n",
    "        mylist = f.readlines()\n",
    "\n",
    "    word_list = []\n",
    "    for line in mylist:\n",
    "        if word_list:\n",
    "            word_list.extend(line.split(\", \"))\n",
    "        else:\n",
    "            word_list = line.split(\", \")\n",
    "\n",
    "    return word_list"
   ]
  },
  {
   "cell_type": "code",
   "execution_count": 4,
   "id": "bd9245f3",
   "metadata": {
    "ExecuteTime": {
     "end_time": "2021-12-14T15:23:03.041810Z",
     "start_time": "2021-12-14T15:23:03.028077Z"
    }
   },
   "outputs": [],
   "source": [
    "def clean_text(text):\n",
    "    out = text.translate(str.maketrans('','',sub('\\-', '', string.punctuation)))\n",
    "    lowered = out.lower()\n",
    "    return lowered.strip()\n"
   ]
  },
  {
   "cell_type": "code",
   "execution_count": 5,
   "id": "8474b1f1",
   "metadata": {
    "ExecuteTime": {
     "end_time": "2021-12-14T15:23:03.057312Z",
     "start_time": "2021-12-14T15:23:03.043312Z"
    }
   },
   "outputs": [],
   "source": [
    "def generate_vector(list,vocabulary):\n",
    "    bag_of_words = []\n",
    "    for sentence_tokens in list:\n",
    "        sent_vec = []\n",
    "        for token in vocabulary:\n",
    "            if token in sentence_tokens:\n",
    "                sent_vec.append(1)\n",
    "            else:\n",
    "                sent_vec.append(0)\n",
    "        bag_of_words.append(sent_vec)\n",
    "    return np.asarray(bag_of_words)"
   ]
  },
  {
   "cell_type": "code",
   "execution_count": 6,
   "id": "a6b81c08",
   "metadata": {
    "ExecuteTime": {
     "end_time": "2021-12-14T15:23:03.072818Z",
     "start_time": "2021-12-14T15:23:03.058313Z"
    }
   },
   "outputs": [],
   "source": [
    "def clean_tokens(list,vocab,expected_len):\n",
    "    clean_list = []\n",
    "    for sentence in list:\n",
    "        cleaned_tokens = [token if token in vocab else '<UNK>' for token in sentence]\n",
    "        padded_tokens = cleaned_tokens + ['<PAD>']*(expected_len - len(cleaned_tokens))\n",
    "        clean_list.append(padded_tokens)\n",
    "    \n",
    "    return clean_list\n",
    "\n",
    "def indexed_tok_seq(list,vocab):\n",
    "    return [[vocab.index(token) for token in sent] for sent in list]"
   ]
  },
  {
   "cell_type": "code",
   "execution_count": 7,
   "id": "b75c7b2d",
   "metadata": {
    "ExecuteTime": {
     "end_time": "2021-12-14T15:23:03.088305Z",
     "start_time": "2021-12-14T15:23:03.073819Z"
    }
   },
   "outputs": [],
   "source": [
    "def max_tokens(list):\n",
    "    total_tokens_in_text = []\n",
    "    for sent in list:\n",
    "        num_of_tokens = 0\n",
    "        for token in sent:\n",
    "            num_of_tokens+=1\n",
    "        total_tokens_in_text.append(num_of_tokens)\n",
    "    return total_tokens_in_text"
   ]
  },
  {
   "cell_type": "code",
   "execution_count": 8,
   "id": "8cab932c",
   "metadata": {
    "ExecuteTime": {
     "end_time": "2021-12-14T15:23:03.103807Z",
     "start_time": "2021-12-14T15:23:03.089306Z"
    }
   },
   "outputs": [],
   "source": [
    "def generate_frequency(list):\n",
    "    freq_table = {}\n",
    "    for sentence in list:\n",
    "        for token in sentence:\n",
    "            if token in freq_table:\n",
    "                freq_table[token] += 1\n",
    "            else:\n",
    "                freq_table[token] = 1\n",
    "    return freq_table"
   ]
  },
  {
   "cell_type": "code",
   "execution_count": 9,
   "id": "c38bb7f9",
   "metadata": {
    "ExecuteTime": {
     "end_time": "2021-12-14T15:23:03.119314Z",
     "start_time": "2021-12-14T15:23:03.105307Z"
    }
   },
   "outputs": [],
   "source": [
    "def generate_vocab(dict):\n",
    "    vocabulary = ['<UNK>','<PAD>']\n",
    "    for key in dict:\n",
    "        if dict[key]>4:\n",
    "            vocabulary.append(key)\n",
    "    return vocabulary"
   ]
  },
  {
   "cell_type": "code",
   "execution_count": 10,
   "id": "aa97f4db",
   "metadata": {
    "ExecuteTime": {
     "end_time": "2021-12-14T15:23:03.134818Z",
     "start_time": "2021-12-14T15:23:03.121316Z"
    }
   },
   "outputs": [],
   "source": [
    "def print_class_pred(predictions):\n",
    "    for pred in predictions:\n",
    "        if pred[0]>pred[1]:\n",
    "            print('Formal Maltese')\n",
    "        elif pred[0]<pred[1]:\n",
    "            print('Informal Maltese')\n"
   ]
  },
  {
   "cell_type": "code",
   "execution_count": 11,
   "id": "d1c5e706",
   "metadata": {
    "ExecuteTime": {
     "end_time": "2021-12-14T15:23:03.150321Z",
     "start_time": "2021-12-14T15:23:03.138319Z"
    }
   },
   "outputs": [],
   "source": [
    "def get_class_pred(predictions):\n",
    "    for pred in predictions:\n",
    "        if pred[0]>pred[1]:\n",
    "            return 'Formal Maltese'\n",
    "        elif pred[0]<pred[1]:\n",
    "            return 'Informal Maltese'\n"
   ]
  },
  {
   "cell_type": "markdown",
   "id": "bc6a5068",
   "metadata": {},
   "source": [
    "# Reading Dataset"
   ]
  },
  {
   "cell_type": "code",
   "execution_count": 12,
   "id": "19b42c39",
   "metadata": {
    "ExecuteTime": {
     "end_time": "2021-12-14T15:23:04.078381Z",
     "start_time": "2021-12-14T15:23:03.873844Z"
    }
   },
   "outputs": [],
   "source": [
    "df_formal = pd.read_csv('Datasets/Annotated Comments Full.csv')\n",
    "formal_text = df_formal['message'].tolist()\n",
    "annotation_1 = df_formal['annotation1'].tolist()\n",
    "annotation_2 = df_formal['annotation2'].tolist()\n",
    "annotation_3 = df_formal['annotation3'].tolist()\n",
    "index = df_formal['index'].tolist()\n",
    "\n",
    "df_informal = pd.read_csv('Output Files/database.csv')\n",
    "informal = df_informal['message'].tolist()[0:len(formal_text)]\n",
    "\n",
    "informal = []\n",
    "formal = []\n",
    "\n",
    "for (text, anno_1,anno_2,anno_3,i) in zip(formal_text,annotation_1,annotation_2, annotation_3,index):\n",
    "    if anno_1 != 'TO-DELETE' and anno_2 != 'TO-DELETE' and anno_3 != 'TO-DELETE' and anno_1 != 'TO-REMOVE':\n",
    "        formal.append(text)\n",
    "    elif anno_1 != 'TO-REMOVE':\n",
    "        informal.append(text)\n",
    "    \n",
    "    if i == 4836:\n",
    "        break\n",
    "        \n",
    "comments = []\n",
    "labels = []\n",
    "\n",
    "for text in formal:\n",
    "    if type(text) == str:\n",
    "        comments.append(text)\n",
    "        labels.append('Formal Maltese')\n",
    "    \n",
    "\n",
    "for text in informal:\n",
    "    if type(text) == str:\n",
    "        comments.append(text)\n",
    "        labels.append('Informal Maltese')\n",
    "    "
   ]
  },
  {
   "cell_type": "markdown",
   "id": "cb8a031d",
   "metadata": {},
   "source": [
    "# Pre-Processing"
   ]
  },
  {
   "cell_type": "code",
   "execution_count": 13,
   "id": "158dc6c6",
   "metadata": {
    "ExecuteTime": {
     "end_time": "2021-12-14T15:23:05.099029Z",
     "start_time": "2021-12-14T15:23:05.025517Z"
    }
   },
   "outputs": [
    {
     "data": {
      "text/plain": [
       "[['u', 'ddaħkux', 'mela', 'ħsibtuhom', 'ċwieċ', 'lin-nies', 'jew'],\n",
       " ['qed', 'tara', 'fejn', 'ħa', 'tpoġġi', 'erba', 'pjanti'],\n",
       " ['minjaf', 'kemm', 'hemm', 'eżempji', 'oħra'],\n",
       " ['bla', 'rispett', 'flus', 'biss', 'jaraw', 'tal-mistħija']]"
      ]
     },
     "execution_count": 13,
     "metadata": {},
     "output_type": "execute_result"
    }
   ],
   "source": [
    "x,y = np.asarray(comments),np.asarray(labels)\n",
    "label_map = {cat:index for index,cat in enumerate(np.unique(y))}\n",
    "Y = np.asarray([label_map[l] for l in y])\n",
    "\n",
    "X = [clean_text(t).split(' ') for t in x]\n",
    "X[:4]"
   ]
  },
  {
   "cell_type": "markdown",
   "id": "5e468d43",
   "metadata": {},
   "source": [
    "# Generating vocabulary from correct words"
   ]
  },
  {
   "cell_type": "code",
   "execution_count": 14,
   "id": "16507eca",
   "metadata": {
    "ExecuteTime": {
     "end_time": "2021-12-14T15:23:05.747542Z",
     "start_time": "2021-12-14T15:23:05.729539Z"
    }
   },
   "outputs": [
    {
     "name": "stdout",
     "output_type": "stream",
     "text": [
      "Length of vocabulary:  881\n"
     ]
    }
   ],
   "source": [
    "frequency = generate_frequency(X)\n",
    "vocab = generate_vocab(frequency)\n",
    "\n",
    "print('Length of vocabulary: ',len(vocab))"
   ]
  },
  {
   "cell_type": "code",
   "execution_count": 15,
   "id": "c2dcbb5e",
   "metadata": {
    "ExecuteTime": {
     "end_time": "2021-12-14T15:23:06.506698Z",
     "start_time": "2021-12-14T15:23:06.193636Z"
    }
   },
   "outputs": [],
   "source": [
    "vocab = list(vocab)\n",
    "vocab.append('<PAD>')\n",
    "vocab.append('<UNK>')\n",
    "\n",
    "max_tok = max(max_tokens(X))\n",
    "X_cleaned_tokens = clean_tokens(X,vocab,max_tok)\n",
    "indexed_X = indexed_tok_seq(X_cleaned_tokens,vocab)\n"
   ]
  },
  {
   "cell_type": "code",
   "execution_count": 16,
   "id": "a3309a08",
   "metadata": {
    "ExecuteTime": {
     "end_time": "2021-12-14T15:23:06.584091Z",
     "start_time": "2021-12-14T15:23:06.578088Z"
    }
   },
   "outputs": [],
   "source": [
    "# Train Test Split Function\n",
    "X_train, X_test, Y_train, Y_test = train_test_split(indexed_X,Y,shuffle=42,test_size=0.10,random_state=15)"
   ]
  },
  {
   "cell_type": "code",
   "execution_count": 17,
   "id": "9a1afb65",
   "metadata": {
    "ExecuteTime": {
     "end_time": "2021-12-14T15:23:07.262140Z",
     "start_time": "2021-12-14T15:23:07.249638Z"
    }
   },
   "outputs": [],
   "source": [
    "Y_train = to_categorical(Y_train, 2)\n",
    "Y_test = to_categorical(Y_test, 2)"
   ]
  },
  {
   "cell_type": "code",
   "execution_count": 18,
   "id": "3ce61888",
   "metadata": {
    "ExecuteTime": {
     "end_time": "2021-12-14T15:23:08.764546Z",
     "start_time": "2021-12-14T15:23:07.617837Z"
    }
   },
   "outputs": [],
   "source": [
    "model = tf.keras.Sequential([\n",
    "    tf.keras.layers.Embedding(\n",
    "        input_dim=len(vocab),\n",
    "        output_dim=64,\n",
    "        # Use masking to handle the variable sequence lengths\n",
    "        mask_zero=True),\n",
    "    tf.keras.layers.Bidirectional(tf.keras.layers.LSTM(64)),\n",
    "    tf.keras.layers.Dense(64, activation='relu'),\n",
    "    tf.keras.layers.Dense(2,activation=\"sigmoid\")\n",
    "])\n",
    "\n",
    "model.compile(loss=tf.keras.losses.BinaryCrossentropy(),\n",
    "              optimizer=tf.keras.optimizers.Adam(1e-4),\n",
    "              metrics=['accuracy'])"
   ]
  },
  {
   "cell_type": "code",
   "execution_count": 19,
   "id": "4a37fcb9",
   "metadata": {
    "ExecuteTime": {
     "end_time": "2021-12-14T15:24:39.470844Z",
     "start_time": "2021-12-14T15:23:08.766048Z"
    }
   },
   "outputs": [
    {
     "name": "stdout",
     "output_type": "stream",
     "text": [
      "Epoch 1/20\n",
      "111/111 - 10s - loss: 0.6164 - accuracy: 0.7747 - val_loss: 0.5053 - val_accuracy: 0.8117 - 10s/epoch - 92ms/step\n",
      "Epoch 2/20\n",
      "111/111 - 4s - loss: 0.5294 - accuracy: 0.7803 - val_loss: 0.4822 - val_accuracy: 0.8117 - 4s/epoch - 37ms/step\n",
      "Epoch 3/20\n",
      "111/111 - 4s - loss: 0.5200 - accuracy: 0.7803 - val_loss: 0.4888 - val_accuracy: 0.8117 - 4s/epoch - 39ms/step\n",
      "Epoch 4/20\n",
      "111/111 - 4s - loss: 0.5083 - accuracy: 0.7803 - val_loss: 0.4596 - val_accuracy: 0.8117 - 4s/epoch - 38ms/step\n",
      "Epoch 5/20\n",
      "111/111 - 4s - loss: 0.4789 - accuracy: 0.7803 - val_loss: 0.4210 - val_accuracy: 0.8117 - 4s/epoch - 38ms/step\n",
      "Epoch 6/20\n",
      "111/111 - 4s - loss: 0.4452 - accuracy: 0.7826 - val_loss: 0.3956 - val_accuracy: 0.8168 - 4s/epoch - 38ms/step\n",
      "Epoch 7/20\n",
      "111/111 - 4s - loss: 0.4169 - accuracy: 0.7920 - val_loss: 0.3759 - val_accuracy: 0.8219 - 4s/epoch - 38ms/step\n",
      "Epoch 8/20\n",
      "111/111 - 4s - loss: 0.3911 - accuracy: 0.8084 - val_loss: 0.3573 - val_accuracy: 0.8575 - 4s/epoch - 38ms/step\n",
      "Epoch 9/20\n",
      "111/111 - 4s - loss: 0.3564 - accuracy: 0.8481 - val_loss: 0.3373 - val_accuracy: 0.8473 - 4s/epoch - 38ms/step\n",
      "Epoch 10/20\n",
      "111/111 - 4s - loss: 0.3250 - accuracy: 0.8705 - val_loss: 0.3170 - val_accuracy: 0.8728 - 4s/epoch - 38ms/step\n",
      "Epoch 11/20\n",
      "111/111 - 4s - loss: 0.2994 - accuracy: 0.8880 - val_loss: 0.3062 - val_accuracy: 0.8728 - 4s/epoch - 39ms/step\n",
      "Epoch 12/20\n",
      "111/111 - 4s - loss: 0.2793 - accuracy: 0.8912 - val_loss: 0.2993 - val_accuracy: 0.8677 - 4s/epoch - 38ms/step\n",
      "Epoch 13/20\n",
      "111/111 - 4s - loss: 0.2741 - accuracy: 0.8883 - val_loss: 0.2966 - val_accuracy: 0.8702 - 4s/epoch - 38ms/step\n",
      "Epoch 14/20\n",
      "111/111 - 4s - loss: 0.2519 - accuracy: 0.9065 - val_loss: 0.3152 - val_accuracy: 0.8677 - 4s/epoch - 38ms/step\n",
      "Epoch 15/20\n",
      "111/111 - 4s - loss: 0.2438 - accuracy: 0.9022 - val_loss: 0.2905 - val_accuracy: 0.8804 - 4s/epoch - 38ms/step\n",
      "Epoch 16/20\n",
      "111/111 - 4s - loss: 0.2298 - accuracy: 0.9065 - val_loss: 0.2904 - val_accuracy: 0.8855 - 4s/epoch - 38ms/step\n",
      "Epoch 17/20\n",
      "111/111 - 4s - loss: 0.2228 - accuracy: 0.9062 - val_loss: 0.3079 - val_accuracy: 0.8728 - 4s/epoch - 38ms/step\n",
      "Epoch 18/20\n",
      "111/111 - 4s - loss: 0.2170 - accuracy: 0.9147 - val_loss: 0.3161 - val_accuracy: 0.8626 - 4s/epoch - 38ms/step\n",
      "Epoch 19/20\n",
      "111/111 - 4s - loss: 0.2143 - accuracy: 0.9093 - val_loss: 0.2962 - val_accuracy: 0.8957 - 4s/epoch - 38ms/step\n",
      "Epoch 20/20\n",
      "111/111 - 4s - loss: 0.2091 - accuracy: 0.9079 - val_loss: 0.3001 - val_accuracy: 0.8830 - 4s/epoch - 38ms/step\n"
     ]
    }
   ],
   "source": [
    "history = model.fit(array(X_train),array(Y_train), epochs=20,validation_split=0.1,verbose = 2)"
   ]
  },
  {
   "cell_type": "code",
   "execution_count": 20,
   "id": "36120c50",
   "metadata": {
    "ExecuteTime": {
     "end_time": "2021-12-14T15:24:39.672380Z",
     "start_time": "2021-12-14T15:24:39.472344Z"
    }
   },
   "outputs": [
    {
     "name": "stdout",
     "output_type": "stream",
     "text": [
      "14/14 [==============================] - 0s 11ms/step - loss: 0.3447 - accuracy: 0.8624\n",
      "Test Loss: 0.34470707178115845\n",
      "Test Accuracy: 86.24\n"
     ]
    }
   ],
   "source": [
    "test_loss, test_acc = model.evaluate(array(X_test),array(Y_test))\n",
    "\n",
    "print('Test Loss:', test_loss)\n",
    "print('Test Accuracy:', round(test_acc*100,2))"
   ]
  },
  {
   "cell_type": "code",
   "execution_count": 21,
   "id": "8482eb01",
   "metadata": {
    "ExecuteTime": {
     "end_time": "2021-12-14T15:24:39.687882Z",
     "start_time": "2021-12-14T15:24:39.673880Z"
    }
   },
   "outputs": [],
   "source": [
    "sample_text = 'Daniel muscat  passed'\n",
    "text = clean_text(sample_text)\n",
    "text = text.split(' ')\n",
    "\n",
    "\n",
    "cleaned_tokens = [token if token in vocab else '<UNK>' for token in text]\n",
    "padded_tokens = cleaned_tokens + ['<PAD>']*(max_tok - len(cleaned_tokens))\n",
    "\n",
    "index_pred = [vocab.index(token) for token in padded_tokens]"
   ]
  },
  {
   "cell_type": "code",
   "execution_count": 22,
   "id": "e7781094",
   "metadata": {
    "ExecuteTime": {
     "end_time": "2021-12-14T15:24:41.300171Z",
     "start_time": "2021-12-14T15:24:39.689882Z"
    }
   },
   "outputs": [
    {
     "name": "stdout",
     "output_type": "stream",
     "text": [
      "Informal Maltese\n"
     ]
    }
   ],
   "source": [
    "predictions = model.predict([index_pred])\n",
    "print_class_pred(predictions)"
   ]
  },
  {
   "cell_type": "code",
   "execution_count": 23,
   "id": "a2006543",
   "metadata": {
    "ExecuteTime": {
     "end_time": "2021-12-14T15:24:41.315673Z",
     "start_time": "2021-12-14T15:24:41.301672Z"
    }
   },
   "outputs": [
    {
     "data": {
      "text/plain": [
       "array([[0.04096895, 0.95714784]], dtype=float32)"
      ]
     },
     "execution_count": 23,
     "metadata": {},
     "output_type": "execute_result"
    }
   ],
   "source": [
    "predictions"
   ]
  },
  {
   "cell_type": "markdown",
   "id": "368e470d",
   "metadata": {},
   "source": [
    "# Generating Predictions"
   ]
  },
  {
   "cell_type": "code",
   "execution_count": 25,
   "id": "29c297d0",
   "metadata": {
    "ExecuteTime": {
     "end_time": "2021-12-14T15:26:41.704800Z",
     "start_time": "2021-12-14T15:24:59.010699Z"
    }
   },
   "outputs": [
    {
     "name": "stdout",
     "output_type": "stream",
     "text": [
      "Epoch 1/20\n",
      "137/137 - 9s - loss: 0.5876 - accuracy: 0.7836 - 9s/epoch - 67ms/step\n",
      "Epoch 2/20\n",
      "137/137 - 5s - loss: 0.5179 - accuracy: 0.7836 - 5s/epoch - 36ms/step\n",
      "Epoch 3/20\n",
      "137/137 - 5s - loss: 0.5091 - accuracy: 0.7836 - 5s/epoch - 36ms/step\n",
      "Epoch 4/20\n",
      "137/137 - 5s - loss: 0.4881 - accuracy: 0.7836 - 5s/epoch - 36ms/step\n",
      "Epoch 5/20\n",
      "137/137 - 5s - loss: 0.4469 - accuracy: 0.7877 - 5s/epoch - 36ms/step\n",
      "Epoch 6/20\n",
      "137/137 - 5s - loss: 0.4120 - accuracy: 0.8077 - 5s/epoch - 36ms/step\n",
      "Epoch 7/20\n",
      "137/137 - 5s - loss: 0.3761 - accuracy: 0.8416 - 5s/epoch - 35ms/step\n",
      "Epoch 8/20\n",
      "137/137 - 5s - loss: 0.3388 - accuracy: 0.8671 - 5s/epoch - 35ms/step\n",
      "Epoch 9/20\n",
      "137/137 - 5s - loss: 0.3139 - accuracy: 0.8761 - 5s/epoch - 35ms/step\n",
      "Epoch 10/20\n",
      "137/137 - 5s - loss: 0.2883 - accuracy: 0.8875 - 5s/epoch - 35ms/step\n",
      "Epoch 11/20\n",
      "137/137 - 5s - loss: 0.2701 - accuracy: 0.8910 - 5s/epoch - 35ms/step\n",
      "Epoch 12/20\n",
      "137/137 - 5s - loss: 0.2504 - accuracy: 0.8997 - 5s/epoch - 35ms/step\n",
      "Epoch 13/20\n",
      "137/137 - 5s - loss: 0.2385 - accuracy: 0.9045 - 5s/epoch - 35ms/step\n",
      "Epoch 14/20\n",
      "137/137 - 5s - loss: 0.2356 - accuracy: 0.9048 - 5s/epoch - 35ms/step\n",
      "Epoch 15/20\n",
      "137/137 - 5s - loss: 0.2249 - accuracy: 0.9093 - 5s/epoch - 35ms/step\n",
      "Epoch 16/20\n",
      "137/137 - 5s - loss: 0.2147 - accuracy: 0.9126 - 5s/epoch - 35ms/step\n",
      "Epoch 17/20\n",
      "137/137 - 5s - loss: 0.2107 - accuracy: 0.9116 - 5s/epoch - 36ms/step\n",
      "Epoch 18/20\n",
      "137/137 - 5s - loss: 0.2065 - accuracy: 0.9130 - 5s/epoch - 35ms/step\n",
      "Epoch 19/20\n",
      "137/137 - 5s - loss: 0.2013 - accuracy: 0.9153 - 5s/epoch - 35ms/step\n",
      "Epoch 20/20\n",
      "137/137 - 5s - loss: 0.1979 - accuracy: 0.9178 - 5s/epoch - 35ms/step\n"
     ]
    }
   ],
   "source": [
    "model = tf.keras.Sequential([\n",
    "    tf.keras.layers.Embedding(\n",
    "        input_dim=len(vocab),\n",
    "        output_dim=64,\n",
    "        # Use masking to handle the variable sequence lengths\n",
    "        mask_zero=True),\n",
    "    tf.keras.layers.Bidirectional(tf.keras.layers.LSTM(64)),\n",
    "    tf.keras.layers.Dense(64, activation='relu'),\n",
    "    tf.keras.layers.Dense(2,activation=\"sigmoid\")\n",
    "])\n",
    "\n",
    "model.compile(loss=tf.keras.losses.BinaryCrossentropy(),\n",
    "              optimizer=tf.keras.optimizers.Adam(1e-4),\n",
    "              metrics=['accuracy'])\n",
    "\n",
    "Y_ = to_categorical(Y, 2)\n",
    "history = model.fit(array(indexed_X),array(Y_), epochs=20,verbose = 2)"
   ]
  },
  {
   "cell_type": "code",
   "execution_count": 42,
   "id": "91f6eb08",
   "metadata": {
    "ExecuteTime": {
     "end_time": "2021-12-14T15:32:05.765474Z",
     "start_time": "2021-12-14T15:32:05.650455Z"
    }
   },
   "outputs": [],
   "source": [
    "df = pd.read_csv('Datasets/Annotated Comments Full.csv')\n",
    "comments = df['message']\n",
    "index = df['index']\n",
    "annotation_1 = df['annotation1'].tolist()\n",
    "annotation_2 = df['annotation2'].tolist()\n",
    "annotation_3 = df['annotation3'].tolist()"
   ]
  },
  {
   "cell_type": "code",
   "execution_count": 43,
   "id": "7053c4d8",
   "metadata": {
    "ExecuteTime": {
     "end_time": "2021-12-14T16:25:45.711869Z",
     "start_time": "2021-12-14T15:32:06.082655Z"
    }
   },
   "outputs": [],
   "source": [
    "for (c, anno_1,anno_2,anno_3,i) in zip(comments,annotation_1,annotation_2, annotation_3,index):\n",
    "    if type(anno_1) == float and type(anno_2) == float and type(anno_3) == float:\n",
    "        text = clean_text(c)\n",
    "        text = text.split(' ')\n",
    "\n",
    "        cleaned_tokens = [token if token in vocab else '<UNK>' for token in text]\n",
    "        padded_tokens = cleaned_tokens + ['<PAD>']*(max_tok - len(cleaned_tokens))\n",
    "\n",
    "        index_pred = [vocab.index(token) for token in padded_tokens]\n",
    "        predictions = model.predict([index_pred])\n",
    "        class_ = get_class_pred(predictions)\n",
    "        if class_ == 'Informal Maltese':\n",
    "            col1_index = (df.index==i)\n",
    "            df.loc[col1_index, 'annotation1'] ='TO-REMOVE' \n",
    "            \n",
    "    elif anno_1 == 'TO-REMOVE':\n",
    "        text = clean_text(c)\n",
    "        text = text.split(' ')\n",
    "\n",
    "        cleaned_tokens = [token if token in vocab else '<UNK>' for token in text]\n",
    "        padded_tokens = cleaned_tokens + ['<PAD>']*(max_tok - len(cleaned_tokens))\n",
    "\n",
    "        index_pred = [vocab.index(token) for token in padded_tokens]\n",
    "        predictions = model.predict([index_pred])\n",
    "        class_ = get_class_pred(predictions)\n",
    "        if class_ == 'Informal Maltese':\n",
    "            col1_index = (df.index==i)\n",
    "            df.loc[col1_index, 'annotation1'] ='TO-REMOVE'\n",
    "        else:\n",
    "            col1_index = (df.index==i)\n",
    "            df.loc[col1_index, 'annotation1'] =''\n",
    "   "
   ]
  },
  {
   "cell_type": "code",
   "execution_count": 44,
   "id": "11edf3f3",
   "metadata": {
    "ExecuteTime": {
     "end_time": "2021-12-14T16:49:13.502045Z",
     "start_time": "2021-12-14T16:49:13.486542Z"
    }
   },
   "outputs": [
    {
     "data": {
      "text/plain": [
       "84109"
      ]
     },
     "execution_count": 44,
     "metadata": {},
     "output_type": "execute_result"
    }
   ],
   "source": [
    "len(df)"
   ]
  },
  {
   "cell_type": "code",
   "execution_count": 45,
   "id": "aba566df",
   "metadata": {
    "ExecuteTime": {
     "end_time": "2021-12-14T16:49:16.336655Z",
     "start_time": "2021-12-14T16:49:16.119110Z"
    }
   },
   "outputs": [],
   "source": [
    "df.to_csv ('Output Files\\Maltese Comments v2.csv', index = False, header=True)"
   ]
  },
  {
   "cell_type": "markdown",
   "id": "b78cc5f5",
   "metadata": {
    "ExecuteTime": {
     "end_time": "2021-12-10T23:38:38.113658Z",
     "start_time": "2021-12-10T23:38:38.098155Z"
    }
   },
   "source": [
    "# Save as SQL"
   ]
  },
  {
   "cell_type": "code",
   "execution_count": 51,
   "id": "ad8e7558",
   "metadata": {
    "ExecuteTime": {
     "end_time": "2021-12-11T09:52:13.063594Z",
     "start_time": "2021-12-11T09:52:12.942064Z"
    }
   },
   "outputs": [],
   "source": [
    "df = pd.read_csv('Output Files\\Maltese Comments.csv')"
   ]
  },
  {
   "cell_type": "code",
   "execution_count": 52,
   "id": "5de27935",
   "metadata": {
    "ExecuteTime": {
     "end_time": "2021-12-11T09:52:21.901736Z",
     "start_time": "2021-12-11T09:52:18.158086Z"
    }
   },
   "outputs": [
    {
     "data": {
      "text/plain": [
       "44580"
      ]
     },
     "execution_count": 52,
     "metadata": {},
     "output_type": "execute_result"
    }
   ],
   "source": [
    "comments = []\n",
    "for index, row in df.iterrows():\n",
    "    if row['annotation1'] != 'TO-REMOVE':\n",
    "        if row['annotation1'] != 'TO-DELETE' and row['annotation2'] != 'TO-DELETE' and row['annotation3'] != 'TO-DELETE':\n",
    "            comments.append(row['message'])\n",
    "            \n",
    "len(comments)"
   ]
  },
  {
   "cell_type": "code",
   "execution_count": 54,
   "id": "500e300d",
   "metadata": {
    "ExecuteTime": {
     "end_time": "2021-12-11T09:52:57.630826Z",
     "start_time": "2021-12-11T09:52:34.399241Z"
    }
   },
   "outputs": [
    {
     "data": {
      "text/plain": [
       "44842"
      ]
     },
     "execution_count": 54,
     "metadata": {},
     "output_type": "execute_result"
    }
   ],
   "source": [
    "diff_words = []\n",
    "\n",
    "for c in comments:\n",
    "    if type(c) == str:\n",
    "        sent = clean_text(c).split(' ')\n",
    "        for word in sent:\n",
    "            if not word in diff_words:\n",
    "                diff_words.append(word)\n",
    "                \n",
    "len(diff_words)"
   ]
  },
  {
   "cell_type": "code",
   "execution_count": 57,
   "id": "90e07522",
   "metadata": {
    "ExecuteTime": {
     "end_time": "2021-12-11T09:55:09.076352Z",
     "start_time": "2021-12-11T09:55:08.501365Z"
    }
   },
   "outputs": [
    {
     "name": "stdout",
     "output_type": "stream",
     "text": [
      "Number of final comments  4552977\n",
      "Number of final comments  82926\n"
     ]
    }
   ],
   "source": [
    "maltese_words = open_list('Output Files/maltese_words.txt')\n",
    "print('Number of final comments ',len(maltese_words))\n",
    "\n",
    "final_comments = open_list('Output Files/final_comments.txt')\n",
    "print('Number of final comments ',len(final_comments))"
   ]
  },
  {
   "cell_type": "code",
   "execution_count": 58,
   "id": "03094cec",
   "metadata": {
    "ExecuteTime": {
     "end_time": "2021-12-11T09:55:17.493415Z",
     "start_time": "2021-12-11T09:55:13.760258Z"
    }
   },
   "outputs": [
    {
     "name": "stdout",
     "output_type": "stream",
     "text": [
      "Placing maltese words in a dictionary...\n"
     ]
    }
   ],
   "source": [
    "print('Placing maltese words in a dictionary...')\n",
    "dict_of_maltese_words = {}\n",
    "for word in maltese_words:\n",
    "    temp_list = []\n",
    "    if len(word)>1:\n",
    "        if word[0] in dict_of_maltese_words.keys():\n",
    "            temp_list = dict_of_maltese_words[word[0]]\n",
    "            temp_list.append(word)\n",
    "            dict_of_maltese_words[word[0]] = temp_list\n",
    "        else:\n",
    "            temp_list.append(word)\n",
    "            dict_of_maltese_words[word[0]] = temp_list"
   ]
  },
  {
   "cell_type": "code",
   "execution_count": 62,
   "id": "f5737a6d",
   "metadata": {
    "ExecuteTime": {
     "end_time": "2021-12-11T10:02:44.499726Z",
     "start_time": "2021-12-11T09:56:46.031211Z"
    }
   },
   "outputs": [
    {
     "name": "stdout",
     "output_type": "stream",
     "text": [
      "Checking comments for any misspelled word...\n"
     ]
    }
   ],
   "source": [
    "print('Checking comments for any misspelled word...')\n",
    "\n",
    "incorrect_words = []\n",
    "\n",
    "for word in diff_words:\n",
    "    if not word.isdigit():\n",
    "        if len(word) >0 :\n",
    "            if not check_list(incorrect_words,word):\n",
    "                if word[0] in dict_of_maltese_words.keys():\n",
    "                    if not check_list(dict_of_maltese_words[word[0]],word):\n",
    "                        incorrect_words.append(word)\n"
   ]
  },
  {
   "cell_type": "code",
   "execution_count": 63,
   "id": "bedd98cb",
   "metadata": {
    "ExecuteTime": {
     "end_time": "2021-12-11T10:17:28.958373Z",
     "start_time": "2021-12-11T10:17:28.942871Z"
    }
   },
   "outputs": [
    {
     "data": {
      "text/plain": [
       "35359"
      ]
     },
     "execution_count": 63,
     "metadata": {},
     "output_type": "execute_result"
    }
   ],
   "source": [
    "len(incorrect_words)"
   ]
  },
  {
   "cell_type": "code",
   "execution_count": 64,
   "id": "4292580e",
   "metadata": {
    "ExecuteTime": {
     "end_time": "2021-12-11T10:19:00.969920Z",
     "start_time": "2021-12-11T10:19:00.942916Z"
    }
   },
   "outputs": [
    {
     "data": {
      "text/plain": [
       "['u',\n",
       " 'ddaħkux',\n",
       " 'lin-nies',\n",
       " 'erba',\n",
       " 'minjaf',\n",
       " 'tal-mistħija',\n",
       " 'jiena',\n",
       " 'miżmum',\n",
       " 'lill-anzjani',\n",
       " 'irridu',\n",
       " 'ikisser',\n",
       " 'l-ħanut',\n",
       " 'fil-kbira',\n",
       " 'berbgħin',\n",
       " 'kilo',\n",
       " 'użgur',\n",
       " 'jitqażżes',\n",
       " 'insibha',\n",
       " 'il-vaċċin',\n",
       " 'd-dar',\n",
       " 'nħobhomx',\n",
       " 'il-qtates',\n",
       " 'imma',\n",
       " 'naħqarhomx',\n",
       " 'il-mewt',\n",
       " 'tal-ewwel',\n",
       " 'xser',\n",
       " 'tas-sinjur',\n",
       " 'umorist',\n",
       " 's-sena',\n",
       " 'bil-biki',\n",
       " 'lill-familti',\n",
       " 'bil-bagalji',\n",
       " 'l-malti',\n",
       " 'il-barrani',\n",
       " 'l-opportunisti',\n",
       " 'kollħa',\n",
       " 'mal-partit',\n",
       " 'jdaħħlukx',\n",
       " 'jeħtieġ',\n",
       " 'anka',\n",
       " 'imutu',\n",
       " 'gawdih',\n",
       " 'iż-żmien',\n",
       " 'it-tfal',\n",
       " 'irid',\n",
       " 'ibenġilha',\n",
       " 'l-poplu',\n",
       " 'razzist',\n",
       " 'lill-familja',\n",
       " 'inhu',\n",
       " 'daharha',\n",
       " 't-telfa',\n",
       " 'jippreparaw',\n",
       " 'tal-elezzjoni',\n",
       " 'jaħasra',\n",
       " 'bil-mentalita',\n",
       " 'in-nies',\n",
       " 'lill-vittma',\n",
       " 'nwaqqaw',\n",
       " 'id-dubju',\n",
       " 'fuqha',\n",
       " 'ħdejh',\n",
       " 'tat-toqba',\n",
       " 'teatrini',\n",
       " 'bill-kliem',\n",
       " 'iċemplu',\n",
       " 'minix',\n",
       " 's-siġar',\n",
       " 'pero',\n",
       " 'ikunu',\n",
       " 'jitneħħew',\n",
       " 'billl-covid',\n",
       " 'fgati',\n",
       " 'bill-maskla',\n",
       " 'nifshom',\n",
       " 't-tfal',\n",
       " 'xqaltlu',\n",
       " 'l-komodina',\n",
       " 'lill-kexxun',\n",
       " 'ħawn',\n",
       " 'bilingwi',\n",
       " 'il-qorti',\n",
       " 'kontrieh',\n",
       " 'ipoġġu',\n",
       " 'il-logħba',\n",
       " 'mill-mowbajl',\n",
       " 'flok',\n",
       " 'mill-pandemija',\n",
       " 'iddaħqu',\n",
       " 'taljenaw',\n",
       " 'l-mara',\n",
       " 'fil-but',\n",
       " 'xnitgħallem',\n",
       " 'itfgħu',\n",
       " 'pajjiżu',\n",
       " 'miż-żibel',\n",
       " 'pajjiżna',\n",
       " 'hemmekk',\n",
       " 'tixtri',\n",
       " 'l-aqwa',\n",
       " 'weġġa’',\n",
       " 'ira',\n",
       " 'missek',\n",
       " 'mghandekx',\n",
       " 'tarah',\n",
       " 'miexi',\n",
       " 'jqallgħak',\n",
       " 'insejt',\n",
       " 'ir-rummien',\n",
       " 'sraqtuh',\n",
       " 'bgħetuh',\n",
       " 'aqtagħha',\n",
       " 'demmek',\n",
       " 'ġo',\n",
       " 'ommi',\n",
       " 'idi',\n",
       " 'bgħajnejhom',\n",
       " 'l-attenzjoni',\n",
       " 't-tabib',\n",
       " 'iservi',\n",
       " 'inħobbha',\n",
       " 'mill-annimali',\n",
       " 'ikompli',\n",
       " 'obbligatorja',\n",
       " 'qegħda',\n",
       " 'l-assoċjazzjoni',\n",
       " 'għad-daqsijiet',\n",
       " 'l-oħra',\n",
       " 'xkont',\n",
       " 'bih',\n",
       " 'ladarba',\n",
       " 'jarawh',\n",
       " 'jisimgħuh',\n",
       " 'is-sema',\n",
       " 'l-affarijiet',\n",
       " 'għalina',\n",
       " 'l-maltin',\n",
       " 'l-barranin',\n",
       " 'ġesu',\n",
       " 'idek',\n",
       " 'joqomsu',\n",
       " 'taffiġ',\n",
       " 'hi',\n",
       " 'iċ-ċans',\n",
       " 'tirrapreżentana',\n",
       " 'd-dieħla',\n",
       " 'jalla',\n",
       " 'fwiċċu',\n",
       " 'fkażijiet',\n",
       " 'm’għandi',\n",
       " 'għalihom',\n",
       " 'frustrati',\n",
       " 'minna',\n",
       " 'l-1400',\n",
       " 'l-pagi',\n",
       " 'l-propjeta',\n",
       " 'nimtelgħu',\n",
       " 'bil-barranin',\n",
       " 'taraħhom',\n",
       " 'imsieken',\n",
       " 't-tmienja',\n",
       " 'fl-għaxija',\n",
       " 'sejrin',\n",
       " 'id-dgħajsa',\n",
       " 'miegħu',\n",
       " 'fiex',\n",
       " 'xżibel',\n",
       " 'il-kitba',\n",
       " 'dik',\n",
       " 'il-mibgħeda',\n",
       " 'toħrog',\n",
       " 'jażżarda',\n",
       " 'bl-ingliż',\n",
       " 'is-suġġett',\n",
       " 'jitilqu\\u200d',\n",
       " 'id-deżertifikazzjoni',\n",
       " 'tinduna',\n",
       " 'l-futur',\n",
       " 'l-istudenti',\n",
       " 'inġibu',\n",
       " 'il-gideb',\n",
       " 'il-virus',\n",
       " 'tistudja',\n",
       " 'tiggradwa',\n",
       " 'ragun',\n",
       " 'nifhmek',\n",
       " 'taqta',\n",
       " 'qalbek',\n",
       " 'tiddeċidieħ',\n",
       " 'tan-nejk',\n",
       " 'qalbi',\n",
       " 'intemmet',\n",
       " 'l-mod',\n",
       " 'xokkanti',\n",
       " 'għall-ħabiba',\n",
       " 'l-isptar',\n",
       " 'magħha',\n",
       " 'il-paċi',\n",
       " 'magħkom',\n",
       " 'iħallsulna',\n",
       " 'l-penzjoni',\n",
       " 'inżommuhom',\n",
       " 'mit-taxxi',\n",
       " 'mank',\n",
       " 'suradejjem',\n",
       " 'l-elezzjoni',\n",
       " 'erbatijiem',\n",
       " 'jibilgħuna',\n",
       " 'capcap',\n",
       " 'ġaħan',\n",
       " 'xinkallazzjoni',\n",
       " 'xgħandha',\n",
       " 'xtaqsam',\n",
       " 'il-familja',\n",
       " 'mal-festin',\n",
       " 'l-10',\n",
       " 'faqawhom',\n",
       " 'l-aħħar',\n",
       " 'smajniha',\n",
       " 'jinsew',\n",
       " 'l-qorti',\n",
       " 'l-impressjoni',\n",
       " 'kienux',\n",
       " 'isiru',\n",
       " 'żmienu',\n",
       " 'madwarna',\n",
       " 'iċċemplu',\n",
       " 'lili',\n",
       " 'gej',\n",
       " 'jiġuix-xejn',\n",
       " 'it-tali',\n",
       " 'inħobbu',\n",
       " 'il-partit',\n",
       " 'umbad',\n",
       " 'ibgħati',\n",
       " 'bl-anzjeta',\n",
       " 'bażwijja',\n",
       " 'tal-aħbarijiet',\n",
       " 'immaġina',\n",
       " 'stabbilimenti',\n",
       " 'japprofetta',\n",
       " 'nistkerruħ',\n",
       " 'mill-barranin',\n",
       " 'fmalta',\n",
       " 'id-dritt',\n",
       " 'tal-umanita',\n",
       " 'baghtu',\n",
       " 'd-dinja',\n",
       " 'l-ohra',\n",
       " 'nerġa',\n",
       " 'ntennitikundannawx',\n",
       " 'ikundannati',\n",
       " 'żarmajtu',\n",
       " 'inħallu',\n",
       " 'is-salib',\n",
       " 'fl-iskejjel',\n",
       " 'insaraxi',\n",
       " 'l-użu',\n",
       " 'ineħħu',\n",
       " 'l-enerġijja',\n",
       " 'it-tip',\n",
       " 'il-folla',\n",
       " 'kullħadd',\n",
       " 'isajjru',\n",
       " 'kitibha',\n",
       " 'fhemha',\n",
       " 'keċċewh',\n",
       " 'organnizzati',\n",
       " 'paceville',\n",
       " 'l-pulizija',\n",
       " 'bqalb',\n",
       " 'tad-deheb',\n",
       " 'infittex',\n",
       " 'tommi',\n",
       " 'missieri',\n",
       " 'il-kunjata',\n",
       " 'il-forka',\n",
       " 'wiċċhom',\n",
       " 'iż-żibel',\n",
       " 'spjeġalhom',\n",
       " 'bil-qabda',\n",
       " 'tal-maltin',\n",
       " 'jagħmluwha',\n",
       " 'ivvottaw',\n",
       " 'liż-żewġ',\n",
       " 'issiru',\n",
       " 'ja',\n",
       " 'iġħna',\n",
       " 'bormliża',\n",
       " 't-taljani',\n",
       " 'fl-istess',\n",
       " 'il-profil',\n",
       " 'għalekk',\n",
       " 'il-kliem',\n",
       " 't-tpatpit',\n",
       " 'fil-vojt',\n",
       " 'bl-adoċċ',\n",
       " 'xtistenna',\n",
       " 'parkeġġ',\n",
       " 'bil',\n",
       " 'jinteresani',\n",
       " 'il-liġijiet',\n",
       " 'jagħddu',\n",
       " 'humiex',\n",
       " 'kwalita',\n",
       " 'nispera',\n",
       " 'koċċ',\n",
       " 'l-kontijiet',\n",
       " 'ġejjin',\n",
       " 'jistmawk',\n",
       " 'iħallas',\n",
       " 'id-dejn',\n",
       " 'tal-post',\n",
       " 'tat-tfal',\n",
       " 'is-saqqu',\n",
       " 'mal-art',\n",
       " 'lilu',\n",
       " 'valida',\n",
       " 'isir',\n",
       " 'fil-qrib',\n",
       " 'umbgħad',\n",
       " 'il-pjazzez',\n",
       " 'bil-ġebel',\n",
       " 'fl-ewropa',\n",
       " 'viva',\n",
       " 'għaliha',\n",
       " 'nibla',\n",
       " 'jgħolew',\n",
       " 'ovvja',\n",
       " 'jgħola',\n",
       " 'l-ħobż',\n",
       " 'qiegħdin',\n",
       " 'fiċ-ċentru',\n",
       " 'mossa',\n",
       " 'il-persuna',\n",
       " 'igergru',\n",
       " 'dal-pajjiż',\n",
       " 'boloħ',\n",
       " 'il-qerda',\n",
       " 'tas-snajja',\n",
       " 'ilha',\n",
       " 'iriduna',\n",
       " 'l-ambulanza',\n",
       " 'jixgħeluwha',\n",
       " 'ilni',\n",
       " 'il-programmi',\n",
       " 'joħrog',\n",
       " 'il-liġi',\n",
       " 'gejjin',\n",
       " 'l-vaganzi',\n",
       " 'tal-karnival',\n",
       " 'l-iskozzja',\n",
       " 'mingħalija',\n",
       " 'l-hemm',\n",
       " 'ta’',\n",
       " 'minsijin',\n",
       " 'awtorita',\n",
       " 'b’eċċezzjoni',\n",
       " 'il-ħmistax',\n",
       " 'bil-vaċċin',\n",
       " 'taqbdekx',\n",
       " 'sejra',\n",
       " 'sieħbi',\n",
       " 'tigi',\n",
       " 'mgħotijja',\n",
       " 'lill-għaqdiet',\n",
       " 'mfaħħra',\n",
       " 'mgħandiex',\n",
       " 'il-parkeġġ',\n",
       " 'tal-karozzi',\n",
       " 'qammelin',\n",
       " 'il-ġenerazzjonijiet',\n",
       " 'warajna',\n",
       " 't-tieni',\n",
       " 'pretendew',\n",
       " 'bil-qalziet',\n",
       " 'xgħadna',\n",
       " 'bil-maskli',\n",
       " 'dis-sħana',\n",
       " 'gew',\n",
       " 'refuġjati',\n",
       " 'mhumiex',\n",
       " 'pajjizhom',\n",
       " 'imfitccijja',\n",
       " 'mill-pulizzija',\n",
       " 'taqbadhom',\n",
       " 'fil-fatt',\n",
       " 'xħa',\n",
       " 'il-ħamiem',\n",
       " 'iħammġu',\n",
       " 'xtaħwid',\n",
       " 'il-kampjonat',\n",
       " 'inħossni',\n",
       " 'hażin',\n",
       " 'il-poplu',\n",
       " 'il-vaccin',\n",
       " 'ir-raġel',\n",
       " 'tibqa',\n",
       " 'inhi',\n",
       " 'l-covid',\n",
       " 'il-mistrieħ',\n",
       " 'l-għassa',\n",
       " 'proset',\n",
       " 'qazzew',\n",
       " 'kuħadd',\n",
       " 'għaddej',\n",
       " 'bil-mutur',\n",
       " 'vaccin',\n",
       " 'mgħandek',\n",
       " 'tafda',\n",
       " 'idejja',\n",
       " 'il-finali',\n",
       " 'il-football',\n",
       " 'iħallu',\n",
       " 'fommhom',\n",
       " 'il-ġurnalist',\n",
       " 'iż-żgħażagħ',\n",
       " 'jipprattikaw',\n",
       " 'l-isport',\n",
       " 'l-għażżien',\n",
       " 'ippremjat',\n",
       " 'l-bieżel',\n",
       " 'ikkastiġat',\n",
       " 'l-iskejjel',\n",
       " 'għall-ewwel',\n",
       " 'jicċajta',\n",
       " 'bis-serjeta',\n",
       " 'kliemha',\n",
       " 'l-abort',\n",
       " 'mhemmx',\n",
       " 'għal-koruzzjoni',\n",
       " 'poggieh',\n",
       " 'fuqek',\n",
       " 'il-ħaddiem',\n",
       " 'prijorita',\n",
       " 'il-ħaddiema',\n",
       " 'jibzgħu',\n",
       " 'mixtrija',\n",
       " 'korrotti',\n",
       " 'bis-sens',\n",
       " 'skuzi',\n",
       " 'il-ħajja',\n",
       " 'tal-qamel',\n",
       " 'nibgħu',\n",
       " 't-tajba',\n",
       " 'il-baħar',\n",
       " 'il-maskra',\n",
       " 'tal-indi',\n",
       " 'iblaħ',\n",
       " 'tibdew',\n",
       " 'l-flus',\n",
       " 'bonus',\n",
       " 'fil-100',\n",
       " 'itaqqbu',\n",
       " 'seraqomlna',\n",
       " 'jtihomlna',\n",
       " 'bħal-granċ',\n",
       " 'daw',\n",
       " 'in-nagħaġ',\n",
       " 'iċapċkulkhom',\n",
       " 'fl-ungerija',\n",
       " 'lbieraħ',\n",
       " 'biha',\n",
       " 'ipprojbit',\n",
       " 'l-għarfien',\n",
       " 'l-omosesswalità',\n",
       " 'l-bidla',\n",
       " 'fil-ġeneru',\n",
       " 'vaċċinat',\n",
       " 'imur',\n",
       " 'l-akbar',\n",
       " 'kredibilita',\n",
       " 'mhu',\n",
       " 'jieħodhom',\n",
       " 'tal-biki',\n",
       " 'jonfoqx',\n",
       " 'l-ewropa',\n",
       " 'il-multikulturalizmu',\n",
       " 'bħallikieku',\n",
       " 'ħaddiehor',\n",
       " 'jiddeċiedi',\n",
       " 'aġġornati',\n",
       " 'w',\n",
       " 'tiċċajta',\n",
       " 'l-ġaffa',\n",
       " 'l-kbira',\n",
       " 'il-gvern',\n",
       " 'fiha',\n",
       " 'fl-atleti',\n",
       " 'disastru',\n",
       " 'għall-ambjent',\n",
       " 'ħaddieħor',\n",
       " 'għall-pajjiż',\n",
       " 'blura',\n",
       " 'kastigi',\n",
       " 'jiefqu',\n",
       " 'il-ħsara',\n",
       " 'l-arloġġ',\n",
       " 'l-knisja',\n",
       " 'l-ispeċi',\n",
       " 'kreatura',\n",
       " 'tapprezzax',\n",
       " 'it-tradizzjonijiet',\n",
       " 'bkultura',\n",
       " 'bihom',\n",
       " 'il-ġenituri',\n",
       " 'għandom',\n",
       " 'isuqu',\n",
       " 'iserrħu',\n",
       " 'rashom',\n",
       " 'uliedhom',\n",
       " 'sħah',\n",
       " 'id-dar',\n",
       " 'bil-problema',\n",
       " 'tal-bank',\n",
       " 'ikollom',\n",
       " 'itihom',\n",
       " 'il-flus',\n",
       " 'jiddikjaraw',\n",
       " 'profs',\n",
       " 'il-maskli',\n",
       " 'd-distanza',\n",
       " 'miexja',\n",
       " 'fit-triq',\n",
       " 'ittuwhom',\n",
       " 'mgħandux',\n",
       " 'xeba',\n",
       " 'bdin',\n",
       " 'tal-kera',\n",
       " 'ittella',\n",
       " 'tan-nies',\n",
       " 'il-medja',\n",
       " 'qaltilna',\n",
       " 'xogħolha',\n",
       " 'iddur',\n",
       " 'fpostu',\n",
       " 'sintomi',\n",
       " 'ġejja',\n",
       " 'mill-lngilterra',\n",
       " 'x-xogħol',\n",
       " 'fdin',\n",
       " 'is-sħana',\n",
       " 'lilek',\n",
       " 'ninsa',\n",
       " 'toqgħodilkhom',\n",
       " 'propjeta',\n",
       " 'l-kwarantina',\n",
       " 'kumdita',\n",
       " 'ħrigt',\n",
       " 'mil-isptar',\n",
       " 'ċertu',\n",
       " 'narah',\n",
       " 'x',\n",
       " 'il-povra',\n",
       " 'bl-ispaga',\n",
       " 'fidejn',\n",
       " 'lewropa',\n",
       " 'iġebbduna',\n",
       " 'diġa',\n",
       " 'ilna',\n",
       " 'isma',\n",
       " 'il-mara',\n",
       " 'ħjaru',\n",
       " 'ovja',\n",
       " 'l-affarijietbiex',\n",
       " 'insemmi',\n",
       " 'iż-',\n",
       " 'sissa',\n",
       " 'ġungla',\n",
       " 'l-ingliż',\n",
       " 'iħallsu',\n",
       " 'joghġbok',\n",
       " 'il-problema',\n",
       " 'l-essenzjal',\n",
       " 'l-ikel',\n",
       " 'jbiegħ',\n",
       " 'r-raġun',\n",
       " 'r-responsabilta',\n",
       " 'bidejom',\n",
       " 'maaa',\n",
       " 'xnies',\n",
       " 'jiġġudika',\n",
       " 'l-iktar',\n",
       " 'l-amerika',\n",
       " 'għalijja',\n",
       " 'xtagħmel',\n",
       " 'fis-sliem',\n",
       " 'tal-litteratura',\n",
       " 'xjiġri',\n",
       " 'għal-',\n",
       " 'covid',\n",
       " 'jilgħaqu',\n",
       " 'intiha',\n",
       " 'xtixrob',\n",
       " 'ħeqq',\n",
       " 'imħabba',\n",
       " 'mis-sibt',\n",
       " 'għall-ħadd',\n",
       " 'fsalt',\n",
       " 'żgħażugħ',\n",
       " 'euro',\n",
       " 'nħaliha',\n",
       " 'maħniex',\n",
       " 'bħali',\n",
       " 'fħafna',\n",
       " 'il-karattru',\n",
       " 'posthom',\n",
       " 'mal-ġenituri',\n",
       " 'mal-barranin',\n",
       " 'dil-ħaġa',\n",
       " 'tipprotesta',\n",
       " 'bħan-najxi',\n",
       " 'iħabbtu',\n",
       " 'l-bibien',\n",
       " 'politka',\n",
       " 'idawwru',\n",
       " 'tal-kulur',\n",
       " 'ppakkjat',\n",
       " 'bir-residenti',\n",
       " 'imorru',\n",
       " 'filfla',\n",
       " 'minnhom',\n",
       " 'l-mulej',\n",
       " 'jagħtik',\n",
       " 'il-faraġ',\n",
       " 'il-barra',\n",
       " 'fmarzu',\n",
       " 'tas-sena',\n",
       " 'il-waqt',\n",
       " 'infettana',\n",
       " 'jitlifha',\n",
       " 'qabilna',\n",
       " 'dar-ritratti',\n",
       " 'n-nagħaġ',\n",
       " 'l-krejnijiet',\n",
       " 'joħorgu',\n",
       " 'il-muqrana',\n",
       " 'dal-pajjizz',\n",
       " 'jaqq',\n",
       " 'magħhom',\n",
       " 'tal-gvern',\n",
       " 'l-vaccin',\n",
       " 'telgħatlu',\n",
       " 'insewh',\n",
       " 'bħalhom',\n",
       " 'taż-żgħir',\n",
       " 'mjien',\n",
       " 't-tabelli',\n",
       " 'f’pajjiżna',\n",
       " 'jqażżuwha',\n",
       " 'it-taraġ',\n",
       " 'id-dipartiment',\n",
       " 'tat-taxxa',\n",
       " 'elektrixin',\n",
       " 'il-paroli',\n",
       " 'iġibuhiex',\n",
       " 'xqed',\n",
       " 'imbasta',\n",
       " 'jaqbadnix',\n",
       " 'pedoflu',\n",
       " 'jgħatu',\n",
       " 'mawx',\n",
       " 'ilek',\n",
       " 'toqghod',\n",
       " 'il-ligi',\n",
       " 'l-kera',\n",
       " 'fsena',\n",
       " 'paġamenti',\n",
       " 'fix-xagħar',\n",
       " 'nipreferi',\n",
       " 'bil-bosta',\n",
       " 'drive',\n",
       " 'joghqodu',\n",
       " 'jigu',\n",
       " 'jlahhqu',\n",
       " 'suditti',\n",
       " 'l-indipendenza',\n",
       " 'mentalment',\n",
       " 'żviluppajna',\n",
       " 'nfusna',\n",
       " 'ix-xitwa',\n",
       " 'nohrog',\n",
       " 'nibqa',\n",
       " 'fsahhti',\n",
       " 'fid-dinja',\n",
       " 'axxaqnija',\n",
       " 'ħallasnihom',\n",
       " 'il-kanditat',\n",
       " 'fil-gvern',\n",
       " 'jitla',\n",
       " 'fl-oppożizzjoni',\n",
       " 'xinhu',\n",
       " 'l-bambin',\n",
       " 'mieghu',\n",
       " 'xinjuranza',\n",
       " 'ija',\n",
       " 'shorts',\n",
       " 'tal-',\n",
       " 'maternity',\n",
       " 'kellom',\n",
       " 'bħalu',\n",
       " 'idaħħaqni',\n",
       " 'il-giddieb',\n",
       " 'għomru',\n",
       " 'bl-artiklu',\n",
       " 'mitejn',\n",
       " 'jiehdu',\n",
       " 'il-beneficji',\n",
       " 'il-maġġoranza',\n",
       " 'jitħalsu',\n",
       " 'isarbu',\n",
       " 'il-kelma',\n",
       " 'l',\n",
       " 'iħalluk',\n",
       " 'kwarta',\n",
       " 'toħodha',\n",
       " 'bżewġ',\n",
       " 'ix-xogħol',\n",
       " 'jikkalkulaħ',\n",
       " 'bis-siegħa',\n",
       " 'kumplott',\n",
       " 'ujew',\n",
       " 'l-imminar',\n",
       " 'entita',\n",
       " 'fil-frisk',\n",
       " 'warajja',\n",
       " 'tal-iskantament',\n",
       " 'delia',\n",
       " 'tejd',\n",
       " 'berny',\n",
       " 'l-ghaqda',\n",
       " 'maghkom',\n",
       " 'bsubajh',\n",
       " 'idaħħlu',\n",
       " 'bil-lejl',\n",
       " 'ikraħ',\n",
       " 'mbgħad',\n",
       " 'l-għada',\n",
       " 'għax-xogħol',\n",
       " 'bil-ġuħ',\n",
       " 'konkos',\n",
       " 'nofsu',\n",
       " 'bil-mewġ',\n",
       " 'siegħat',\n",
       " 'il-festi',\n",
       " 'fejnhom',\n",
       " 'il-provi',\n",
       " 'etcu',\n",
       " 'tismahhomx',\n",
       " 'possibli',\n",
       " 'l-biċċa',\n",
       " 'l-ebda',\n",
       " 'pulizzija',\n",
       " 'xqiegħed',\n",
       " 'tipproponi',\n",
       " 'xgħafsa',\n",
       " 'is-sec',\n",
       " 'l-entita',\n",
       " 'l-anqas',\n",
       " 'każi',\n",
       " 'tlett',\n",
       " 'ibniet',\n",
       " 'inlaħħaq',\n",
       " 'ħsiebhom',\n",
       " 'tissemma',\n",
       " 'kas',\n",
       " 'beccun',\n",
       " 'iżżid',\n",
       " 'part',\n",
       " 'time',\n",
       " 'ħielsa',\n",
       " 'ic-ċinġa',\n",
       " 'tersaqx',\n",
       " 'lejh',\n",
       " 'jdejqek',\n",
       " 'berbat',\n",
       " 'iqtates',\n",
       " 'qadt',\n",
       " 'tikkumenta',\n",
       " 'jwaqqfuk',\n",
       " 'bisem',\n",
       " 'lalla',\n",
       " 'it-tabella',\n",
       " 'mis-sagħtejn',\n",
       " 'il-lejl',\n",
       " 'l-ġurnata',\n",
       " 't-tlieta',\n",
       " 'n-nies',\n",
       " 'bil-ħarba',\n",
       " 'irresponsabbli',\n",
       " 'jitolbok',\n",
       " 'mal-ewwel',\n",
       " 'fihom',\n",
       " 'l-problemi',\n",
       " 'xqal',\n",
       " 'xagħrejn',\n",
       " 'ittihom',\n",
       " 'il-vaċċinmhux',\n",
       " 'kelb“',\n",
       " 'il-ġurnata',\n",
       " 'rispettat',\n",
       " 'mill-bniedem',\n",
       " 'nisperaw',\n",
       " 'warajh',\n",
       " 'l-agħar',\n",
       " 'id-darba',\n",
       " 'għall-internet',\n",
       " 'l-mezzi',\n",
       " 'filkas',\n",
       " 'innocenti',\n",
       " 'tal-lumi',\n",
       " 'fin-negattiv',\n",
       " 'il-verita',\n",
       " 'tweġġa',\n",
       " 'minnkom',\n",
       " 'xxerdu',\n",
       " 'l-virus',\n",
       " 'l-immigranti',\n",
       " 'uliedna',\n",
       " 'is-sitwazzjoni',\n",
       " 'nistax',\n",
       " 'jirrestawraw',\n",
       " 'l-antik',\n",
       " 'mhawndan',\n",
       " 'fil-wiċċ',\n",
       " 'bismek',\n",
       " 'l-bqija',\n",
       " 'paniku',\n",
       " 'jipprovdu',\n",
       " 'l-vaċċin',\n",
       " 'jaħtfuk',\n",
       " 'stennewh',\n",
       " 'l-ajruport',\n",
       " 'iġbruh',\n",
       " 'ir-ritratti',\n",
       " 'bil-ħanut',\n",
       " 'il-ministru',\n",
       " 'liż-żgħir',\n",
       " 'themmekk',\n",
       " 'imġewwħin',\n",
       " 'bil-ħwejjeġ',\n",
       " 'tagħmmilli',\n",
       " 'fil-ħajja',\n",
       " 'warajk',\n",
       " 'mal-mejda',\n",
       " 'tilbisha',\n",
       " 'jistgħaġbu',\n",
       " 'mix-xejn',\n",
       " 'maħna',\n",
       " 'ninsew',\n",
       " 'xarukaża',\n",
       " 'jakkużawna',\n",
       " 'bid-diskriminazzjoni',\n",
       " 'prosithekk',\n",
       " 'il-mentalita',\n",
       " 'iż-żwieġ',\n",
       " 'l-ħajja',\n",
       " 'bmoħħok',\n",
       " 'bqalbek',\n",
       " 'tirrispetta',\n",
       " 'innifsek',\n",
       " 'inħeba',\n",
       " 'hżiena',\n",
       " 'dubjużi',\n",
       " 'l-istaġun',\n",
       " 'xinhi',\n",
       " 'l-problema',\n",
       " 'tigdibx',\n",
       " 'il-ħniżrijiet',\n",
       " 'inħallsu',\n",
       " 't-taxxi',\n",
       " 'dahrna',\n",
       " 'bkontenut',\n",
       " 'l-kawżi',\n",
       " 'penzjoni',\n",
       " 'l-barrikati',\n",
       " 'jippruvaw',\n",
       " 'fpajjiżhom',\n",
       " 'imkaxxkrin',\n",
       " 'mħaġġra',\n",
       " 'maħruqin',\n",
       " 'd-dewmien',\n",
       " 'tal-qorti',\n",
       " 'kwalinkwa',\n",
       " 'l-ekonomija',\n",
       " 'bsaħħita',\n",
       " 'imbilli',\n",
       " 'bid-dħaħen',\n",
       " 't-trabijiet',\n",
       " 'tagħmluh',\n",
       " 'ċ-ċertezza',\n",
       " 'iz-żibel',\n",
       " 'fil-partit',\n",
       " 'iż-żewġ',\n",
       " 'ttradixxew',\n",
       " 'lill-għażiża',\n",
       " 'l-unjoni',\n",
       " 'inkubatur',\n",
       " 'bil-lest',\n",
       " 'inewwaħ',\n",
       " 'sabuwha',\n",
       " 'igawdu',\n",
       " 'inbnew',\n",
       " 'bis-saħħa',\n",
       " 'tal-unjoni',\n",
       " 'nonfqu',\n",
       " 'bil-',\n",
       " 'marelli',\n",
       " 'maskla',\n",
       " 'ħalqna',\n",
       " 'il-kazijiet',\n",
       " 'tat-tlielaq',\n",
       " 'nneħħuwha',\n",
       " 'l-isem',\n",
       " 'jixraqilha',\n",
       " 'mhuma',\n",
       " 'jibqa',\n",
       " 'il-paga',\n",
       " 'mill-ewwel',\n",
       " 'il-bankina',\n",
       " 'nqleb',\n",
       " 'dal-mard',\n",
       " 'l-aħjar',\n",
       " 'nnifsu',\n",
       " 'inqabad',\n",
       " 'għalissa',\n",
       " 'super',\n",
       " 'ghal-ewropa',\n",
       " 'nilqgħuhom',\n",
       " 'verita',\n",
       " 'jitmejjlu',\n",
       " 'bina',\n",
       " 'fpajjiżna',\n",
       " 'attentat',\n",
       " 'mosè',\n",
       " 'il-prodotti',\n",
       " 'bil-malti',\n",
       " 'il-pajjiżi',\n",
       " 'il-moviment',\n",
       " 'jaħdmuh',\n",
       " 'ħriġniha',\n",
       " 'ħamruniżi',\n",
       " 'fl-aħħar',\n",
       " 'niringrazzjaw',\n",
       " 'bintenzjoni',\n",
       " 'delettanti',\n",
       " 'ffumikati',\n",
       " 'tal-linja',\n",
       " 'kummmerċjali',\n",
       " 'etc',\n",
       " 'iħalluna',\n",
       " 'pendenti',\n",
       " 'tirrapporta',\n",
       " 'intaqqbu',\n",
       " 'l-ingredjent',\n",
       " 't-triq',\n",
       " 'il-mowbajl',\n",
       " 'r-ristoranti',\n",
       " 'magħluqin',\n",
       " 'il-barka',\n",
       " 'mill-amerka',\n",
       " 'ix',\n",
       " 'l-gimgħa',\n",
       " 'id-dieħla',\n",
       " 'però',\n",
       " 'tad-dwana',\n",
       " 'l-kontallura',\n",
       " 'fkelma',\n",
       " 'ohra',\n",
       " 't-test',\n",
       " 'n-nazzjonal',\n",
       " 'nimplimentaw',\n",
       " 'jdejh',\n",
       " 'm’hawnx',\n",
       " 'għal-liġi',\n",
       " 'kontrihom',\n",
       " 't-tagħlim',\n",
       " 'il-ħmieġ',\n",
       " 'armih',\n",
       " 'snienu',\n",
       " 'vendikazzjoni',\n",
       " 'bl-imbarazz',\n",
       " 'imtlejna',\n",
       " 'proklama',\n",
       " 'il-qiegħ',\n",
       " 'responsabli',\n",
       " 'il-pupu',\n",
       " 'il-punent',\n",
       " 'il-mulej',\n",
       " 'it-tarmak',\n",
       " 'it-triq',\n",
       " 'fix-xita',\n",
       " 'hiereg',\n",
       " 'mill-mina',\n",
       " 'mir-raqda',\n",
       " 'l-partit',\n",
       " 'il-madonna',\n",
       " 'l-ġaħan',\n",
       " 'jmiss',\n",
       " ...]"
      ]
     },
     "execution_count": 64,
     "metadata": {},
     "output_type": "execute_result"
    }
   ],
   "source": [
    "incorrect_words"
   ]
  },
  {
   "cell_type": "code",
   "execution_count": null,
   "id": "909ce6e1",
   "metadata": {},
   "outputs": [],
   "source": []
  }
 ],
 "metadata": {
  "kernelspec": {
   "display_name": "Python 3 (ipykernel)",
   "language": "python",
   "name": "python3"
  },
  "language_info": {
   "codemirror_mode": {
    "name": "ipython",
    "version": 3
   },
   "file_extension": ".py",
   "mimetype": "text/x-python",
   "name": "python",
   "nbconvert_exporter": "python",
   "pygments_lexer": "ipython3",
   "version": "3.10.0"
  },
  "toc": {
   "base_numbering": 1,
   "nav_menu": {},
   "number_sections": true,
   "sideBar": true,
   "skip_h1_title": false,
   "title_cell": "Table of Contents",
   "title_sidebar": "Contents",
   "toc_cell": false,
   "toc_position": {
    "height": "calc(100% - 180px)",
    "left": "10px",
    "top": "150px",
    "width": "242.2px"
   },
   "toc_section_display": true,
   "toc_window_display": true
  }
 },
 "nbformat": 4,
 "nbformat_minor": 5
}
